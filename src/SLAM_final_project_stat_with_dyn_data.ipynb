{
 "cells": [
  {
   "cell_type": "markdown",
   "metadata": {
    "id": "5_e_cQTYb-Zj"
   },
   "source": [
    "# SLAM Final Project\n",
    "\n",
    "Victoria Park Dataset (for more information such as vehicle modeling, dynamic model and measurement model see [link](https://www-personal.acfr.usyd.edu.au/nebot/victoria_park.htm).)"
   ]
  },
  {
   "cell_type": "markdown",
   "metadata": {
    "id": "I1qKjqR0d1lB"
   },
   "source": [
    "**DATASET** - *arranged in time-order*\n",
    "\n",
    "Example of the dataset (note that gps is gt, it is not used for EFK but used only for evaluation):\n",
    "\n",
    "     | data[0] =  ('gps', [time, zx_gt, zy_gt, ztheta_gt])\n",
    "     | data[1] =  ('odometry', [time, ve, alpha])\n",
    "     | data[2] =  ('odometry', [time, ve, alpha])\n",
    "     | data[3] =  ('measurements', [time, d0, phi0, d1, phi1, ...])\n",
    "     | data[4] =  ('odometry', [time, ve, alpha])\n",
    "     | data[5] =  ('odometry', [time, ve, alpha])\n",
    "     | data[6] =  ('gps', [time, zx_gt, zy_gt, ztheta_gt])\n",
    "     | data[7] =  ('odometry', [time, ve, alpha])\n",
    "     | data[8] =  ('odometry', [time, ve, alpha])\n",
    "     | data[9] =  ('measurements', [time, d0, phi0, d1, phi1, ...])\n",
    "     ..."
   ]
  },
  {
   "cell_type": "markdown",
   "metadata": {
    "id": "LRdUi1GKhexy"
   },
   "source": [
    "# TODO\n",
    "\n",
    "**1. data.npy**\n",
    "\n",
    "*   Assume that all landmarks are static\n",
    "*   Implement EKF SLAM\n",
    "\n",
    "<img src = \"https://drive.google.com/uc?id=1ELl2QZ3D_-_LSzbHLD6l_Qs5LJ10i_jI\" height = 500>\n",
    "\n",
    "\\\n",
    "\n",
    "**2. data_dynamic.npy**\n",
    "\n",
    "*   Assume that all the trees are going crazy, uprooting themselves and moving at a velocity of [0.05, 0.05].\n",
    "*   Trees are starting to move from the beginning of the data (starts to move right after data[0])\n",
    "*   Implement EKF SLAM with consideration of these dynamic landmarks.\n",
    "\n",
    "\\\n",
    "\n",
    "* **EX) with common EKF SLAM (left), with EKF SLAM for dynamic landmarks (right)**\n",
    "\n",
    "<img src = \"https://drive.google.com/uc?id=1E_EzqCIchZcV1O6YSE5rU_5LHXOIpbEA\" width = 400>\n",
    "<img src = \"https://drive.google.com/uc?id=1EL75ntOpKoOvzH88XnT5yt-j-KFrrMQ5\" width = 400>"
   ]
  },
  {
   "cell_type": "code",
   "execution_count": 8,
   "metadata": {
    "executionInfo": {
     "elapsed": 9,
     "status": "ok",
     "timestamp": 1749722223855,
     "user": {
      "displayName": "Gabriel García A.",
      "userId": "15710136422793665215"
     },
     "user_tz": -540
    },
    "id": "DDADBD7VHiB2"
   },
   "outputs": [],
   "source": [
    "import os\n",
    "import matplotlib.pyplot as plt\n",
    "import numpy as np\n",
    "from scipy.stats.distributions import chi2\n",
    "from tqdm.auto import tqdm"
   ]
  },
  {
   "cell_type": "code",
   "execution_count": 9,
   "metadata": {
    "executionInfo": {
     "elapsed": 69,
     "status": "ok",
     "timestamp": 1749722225417,
     "user": {
      "displayName": "Gabriel García A.",
      "userId": "15710136422793665215"
     },
     "user_tz": -540
    },
    "id": "eD6jiY80Jge_"
   },
   "outputs": [],
   "source": [
    "def solve_cost_matrix_heuristic(M):\n",
    "    n_msmts = M.shape[0]\n",
    "    result = []\n",
    "\n",
    "    ordering = np.argsort(M.min(axis=1))\n",
    "\n",
    "    for msmt in ordering:\n",
    "        match = np.argmin(M[msmt,:])\n",
    "        M[:, match] = 1e8\n",
    "        result.append((msmt, match))\n",
    "\n",
    "    return result\n",
    "\n",
    "def compute_data_association(MU, SIGMA, num_of_seen_landmarks, measurements, R):\n",
    "    def measurement_model(MU, landmark_id):\n",
    "        z_x, z_y, z_theta = MU[:robot_dim]\n",
    "        z_theta = np.arctan2(np.sin(z_theta), np.cos(z_theta))\n",
    "        m_x, m_y = MU[robot_dim + landmark_dim*landmark_id : robot_dim + landmark_dim*(landmark_id+1)]\n",
    "        d = np.sqrt((m_x-z_x)**2 + (m_y-z_y)**2)\n",
    "        phi = np.arctan2((m_y-z_y),(m_x-z_x)) - z_theta\n",
    "        phi = np.arctan2(np.sin(phi), np.cos(phi))\n",
    "        zhat = np.array([d, phi])\n",
    "\n",
    "        H = np.zeros((2,MU.size))\n",
    "        H[0,0] = -(m_x - z_x)/np.sqrt((m_x - z_x)**2+(m_y - z_y)**2)\n",
    "        H[1,0] = (m_y - z_y)/((m_x - z_x)**2+(m_y - z_y)**2)\n",
    "        H[0,1] = -(m_y - z_y)/np.sqrt((m_x - z_x)**2+(m_y - z_y)**2)\n",
    "        H[1,1] = -(m_x - z_x)/((m_x - z_x)**2+(m_y - z_y)**2)\n",
    "        H[0,2] = 0\n",
    "        H[1,2] = -1\n",
    "        H[0,1+2*(landmark_id+1)] = (m_x - z_x)/np.sqrt((m_x - z_x)**2+(m_y - z_y)**2)\n",
    "        H[1,1+2*(landmark_id+1)] = -(m_y - z_y)/((m_x-z_x)**2+(m_y-z_y)**2)\n",
    "        H[0,2+2*(landmark_id+1)] = (m_y - z_y)/np.sqrt((m_x - z_x)**2+(m_y - z_y)**2)\n",
    "        H[1,2+2*(landmark_id+1)] = (m_x-z_x)/((m_x-z_x)**2+(m_y-z_y)**2)\n",
    "\n",
    "        return zhat, H\n",
    "\n",
    "    if num_of_seen_landmarks == 0:\n",
    "        # set association to init new landmarks for all measurements\n",
    "        return np.array([-1 for m in measurements])\n",
    "\n",
    "    A = np.full((len(measurements),len(measurements)),chi2.ppf(0.96, df=2))\n",
    "    cost_mat = np.full((len(measurements), num_of_seen_landmarks), chi2.ppf(0.96, df=2))\n",
    "\n",
    "    for k in range(0,len(measurements)):\n",
    "        for j in range(0,num_of_seen_landmarks):\n",
    "            z_hat,H = measurement_model(MU, j)\n",
    "            # print(measurements[k][0:2])\n",
    "            r = np.array(np.array(measurements[k][0:2]) - np.array(z_hat))\n",
    "            S_inv = np.linalg.inv(np.matmul(np.matmul(H,SIGMA),np.transpose(H)) + R[:2,:2])\n",
    "            MD = np.matmul(np.matmul(np.transpose(r),S_inv), r)\n",
    "            cost_mat[k,j] = MD\n",
    "\n",
    "    cost_mat_conc = np.concatenate((cost_mat, A), axis=1)\n",
    "    temp1 = np.copy(cost_mat)\n",
    "    results = solve_cost_matrix_heuristic(temp1)\n",
    "\n",
    "    assoc = np.zeros(len(measurements),dtype = np.int32)\n",
    "    for k in range(0, len(results)):\n",
    "        # print(cost_mat[results[k][0],results[k][1]])\n",
    "        if cost_mat_conc[results[k][0],results[k][1]] > chi2.ppf(0.99, df=2):\n",
    "            assoc[results[k][0]] = -1\n",
    "        elif cost_mat_conc[results[k][0],results[k][1]] >= chi2.ppf(0.95, df=2):\n",
    "            assoc[results[k][0]] = -2\n",
    "        else:\n",
    "            assoc[results[k][0]] = results[k][1]\n",
    "\n",
    "    return assoc\n",
    "\n",
    "def cal_ate_rmse(state_history, gps_history, optim=False):\n",
    "    state_history = np.array(state_history)\n",
    "    state_history_t = state_history[:,0]\n",
    "\n",
    "    max_dt = 0.015 # [s]    0.015\n",
    "    ATE_errors = []\n",
    "    # associated idxs\n",
    "    idxs_gps = []\n",
    "    idxs_est = []\n",
    "\n",
    "    for i, gps in enumerate(gps_history):\n",
    "        gps_t = gps[0]\n",
    "        gps_xy = gps[1:3]\n",
    "\n",
    "        # associate\n",
    "        associated_idx = np.argmin(np.abs(state_history_t - gps_t))\n",
    "\n",
    "        if np.abs(state_history_t[associated_idx] - gps_t) < max_dt:\n",
    "            est_xy = state_history[associated_idx][1:3]\n",
    "            ATE_error = (gps_xy[0] - est_xy[0])**2 + (gps_xy[1] - est_xy[1])**2\n",
    "            ATE_errors.append(ATE_error)\n",
    "            idxs_est.append(associated_idx)\n",
    "            idxs_gps.append(i)\n",
    "\n",
    "    ATE_errors = np.array(ATE_errors)\n",
    "    ATE_RMSE = np.sqrt(np.mean(ATE_errors))\n",
    "    if not optim:\n",
    "        print(f\"ATE RMSE: {ATE_RMSE:.3f}[m]\")\n",
    "    return ATE_RMSE, idxs_gps, idxs_est"
   ]
  },
  {
   "cell_type": "code",
   "execution_count": 10,
   "metadata": {
    "executionInfo": {
     "elapsed": 2,
     "status": "ok",
     "timestamp": 1749722227678,
     "user": {
      "displayName": "Gabriel García A.",
      "userId": "15710136422793665215"
     },
     "user_tz": -540
    },
    "id": "JpRcUfcGjmdg"
   },
   "outputs": [],
   "source": [
    "# parameters\n",
    "robot_dim = 3\n",
    "landmark_dim = 2\n",
    "num_of_total_landmarks = 200 # assumed to be known\n",
    "\n",
    "vehicle_params = {\n",
    "        \"a\": 3.78,\n",
    "        \"b\": 0.50,\n",
    "        \"L\": 2.83,\n",
    "        \"H\": 0.76\n",
    "    }"
   ]
  },
  {
   "cell_type": "code",
   "execution_count": 11,
   "metadata": {
    "executionInfo": {
     "elapsed": 43,
     "status": "ok",
     "timestamp": 1749724324942,
     "user": {
      "displayName": "Gabriel García A.",
      "userId": "15710136422793665215"
     },
     "user_tz": -540
    },
    "id": "nx4kUXA4FOAg"
   },
   "outputs": [],
   "source": [
    "def g_dynamic(z, u, dT, vehicle_params):\n",
    "\n",
    "  #print('State before: ', z)\n",
    "  z_new = z.copy()\n",
    "  z_theta = z_new[2]\n",
    "  z_theta = np.arctan2(np.sin(z_theta), np.cos(z_theta))  # normalize angle\n",
    "\n",
    "  a = vehicle_params['a']\n",
    "  b = vehicle_params['b']\n",
    "  L = vehicle_params['L']\n",
    "  H = vehicle_params['H']\n",
    "\n",
    "  ve = u[0]\n",
    "  alpha = u[1]\n",
    "  vc = ve/(1 - np.tan(alpha)*H/L)\n",
    "\n",
    "  dyn_model = np.array([\n",
    "    dT * (vc * np.cos(z_theta) - vc / L * np.tan(alpha) * (a * np.sin(z_theta) + b * np.cos(z_theta))),\n",
    "    dT * (vc * np.sin(z_theta) + vc / L * np.tan(alpha) * (a * np.cos(z_theta) - b * np.sin(z_theta))),\n",
    "    dT * vc / L * np.tan(alpha)\n",
    "    ])\n",
    "\n",
    "  z_new[:3] += dyn_model\n",
    "  \n",
    "  return z_new\n",
    "\n",
    "def g_jacobian(z, u, dT, vehicle_params):\n",
    "\n",
    "  z_theta = z[2]\n",
    "  z_theta = np.arctan2(np.sin(z_theta), np.cos(z_theta))\n",
    "\n",
    "  a = vehicle_params['a']\n",
    "  b = vehicle_params['b']\n",
    "  L = vehicle_params['L']\n",
    "  H = vehicle_params['H']\n",
    "\n",
    "  ve = u[0]\n",
    "  alpha = u[1]\n",
    "  vc = ve/(1 - np.tan(alpha)*H/L)\n",
    "\n",
    "  G13 = -dT*vc*(np.sin(z_theta)+(1/L)*np.tan(alpha)*(a*np.cos(z_theta)-b*np.sin(z_theta)))\n",
    "  G23 = dT*vc*(np.cos(z_theta)-(1/L)*np.tan(alpha)*(a*np.sin(z_theta)+b*np.cos(z_theta)))\n",
    "  g_jacob = np.array([[1, 0, G13], [0, 1, G23],[0, 0, 1]])\n",
    "  return g_jacob\n",
    "\n",
    "def h_measurement(z, landmark_index, h_measurement_out):\n",
    "  z_x = z[0]\n",
    "  z_y = z[1]\n",
    "  z_theta = z[2]\n",
    "  z_theta = np.arctan2(np.sin(z_theta), np.cos(z_theta))\n",
    "\n",
    "  m_x = z[robot_dim + landmark_dim*landmark_index]\n",
    "  m_y = z[robot_dim + landmark_dim*landmark_index + 1]\n",
    "\n",
    "  del_x = m_x - z_x\n",
    "  del_y = m_y - z_y\n",
    "  r = del_x**2 + del_y**2\n",
    "  sqrt_r = np.sqrt(r)\n",
    "  new_theta = np.arctan2(del_y,del_x)-z_theta\n",
    "  new_theta = np.arctan2(np.sin(new_theta), np.cos(new_theta))\n",
    "  zhat = [[sqrt_r],[new_theta]]\n",
    "\n",
    "  h_measurement_out[0] = zhat[0]\n",
    "  h_measurement_out[1] = zhat[1]\n",
    "\n",
    "  return h_measurement_out\n",
    "\n",
    "def h_jacobian(z, landmark_index):\n",
    "\n",
    "  z_x = z[0]\n",
    "  z_y = z[1]\n",
    "\n",
    "  m_x = z[robot_dim + landmark_dim*landmark_index]\n",
    "  m_y = z[robot_dim + landmark_dim*landmark_index + 1]\n",
    "\n",
    "  del_x = m_x - z_x\n",
    "  del_y = m_y - z_y\n",
    "  r = del_x**2 + del_y**2\n",
    "  sqrt_r = np.sqrt(r)\n",
    "\n",
    "  h = np.array([[-sqrt_r*del_x, -sqrt_r*del_y, 0, sqrt_r*del_x, sqrt_r*del_y],[del_y, -del_x, -r, -del_y, del_x]])/r\n",
    "  F_x = np.zeros((5, len(z)))\n",
    "  F_x[:3,:3] = np.eye(3)\n",
    "  F_x[3,3+2*landmark_index]=1\n",
    "  F_x[4,4+2*landmark_index]=1\n",
    "  h_jacob = np.matmul(h,F_x)\n",
    "\n",
    "  return h_jacob"
   ]
  },
  {
   "cell_type": "code",
   "execution_count": null,
   "metadata": {
    "colab": {
     "base_uri": "https://localhost:8080/"
    },
    "executionInfo": {
     "elapsed": 16,
     "status": "ok",
     "timestamp": 1749723696109,
     "user": {
      "displayName": "Gabriel García A.",
      "userId": "15710136422793665215"
     },
     "user_tz": -540
    },
    "id": "8K9KAIFrdEdT",
    "outputId": "a77ce914-04fe-46b8-d324-e82a572bf7dd"
   },
   "outputs": [],
   "source": [
    "# Dynamic noise\n",
    "Q = np.diag(np.append(np.array([0.0303356**2, # variance of robot x\n",
    "                                0.0918367**2, # variance of robot y\n",
    "                                0.0211368**2]), # variance of robot theta\n",
    "                                np.zeros((landmark_dim * num_of_total_landmarks,))))\n",
    "\n",
    "# Measurement noise\n",
    "R = np.diag([0.6385455**2, (0.0456069)**2])"
   ]
  },
  {
   "cell_type": "code",
   "execution_count": null,
   "metadata": {
    "colab": {
     "base_uri": "https://localhost:8080/",
     "height": 1000,
     "referenced_widgets": [
      "f91b59b78ccf4ba0981a5ad120b9b6f7",
      "ad223f1aecfa40a78e58d138b4c7a208",
      "68c290f602e2494b8163abc65bd6acbf",
      "cdffcd5beaa0446dadfaed054cccdf8d",
      "e496dfe272ae4e0598b22e10bce94e8b",
      "ea26e5ecb058449f9ea183eade40a0df",
      "c63a00a9222d4f09835477110ec0355e",
      "1584c8cd86034a69a7a45aa25ce56ae7",
      "b50b55d8ac934d3e98bc70d61f5b39ce",
      "17b460cfdf22428886fdceeb5d7fb0e1",
      "075ce541f27f4c8fb32529be476545a4"
     ]
    },
    "executionInfo": {
     "elapsed": 44074,
     "status": "ok",
     "timestamp": 1749724375459,
     "user": {
      "displayName": "Gabriel García A.",
      "userId": "15710136422793665215"
     },
     "user_tz": -540
    },
    "id": "MOSqA0VkFOAh",
    "outputId": "23394c7d-8ce7-4c29-ba97-ef2e6369f20d"
   },
   "outputs": [
    {
     "data": {
      "application/vnd.jupyter.widget-view+json": {
       "model_id": "facd078405174295b7b6edf8c6f67189",
       "version_major": 2,
       "version_minor": 0
      },
      "text/plain": [
       "  0%|          | 0/10000 [00:00<?, ?it/s]"
      ]
     },
     "metadata": {},
     "output_type": "display_data"
    },
    {
     "name": "stdout",
     "output_type": "stream",
     "text": [
      "ATE RMSE: 1.392[m]\n",
      "num_trees 182\n"
     ]
    },
    {
     "data": {
      "image/png": "[encoded data removed]",
      "text/plain": [
       "<Figure size 640x480 with 1 Axes>"
      ]
     },
     "metadata": {},
     "output_type": "display_data"
    }
   ],
   "source": [
    "###########################################################################\n",
    "# main\n",
    "###########################################################################\n",
    "# Reading dataset\n",
    "# events, robot_init_pose = read_data(len_data=10000, path=your_data_path)\n",
    "\n",
    "events, robot_init_pose = np.load('../data/data_dynamic.npy', allow_pickle=True)\n",
    "\n",
    "'''\n",
    "  it takes about 10 minuts for all trajectory estimation.\n",
    "  for debuging you can crop the events as the following:\n",
    "'''\n",
    "#events = events[:5000] #\n",
    "\n",
    "time_prev = -1\n",
    "gps_history = []\n",
    "state_history = {\n",
    "    'robot_pose_history': [],\n",
    "    'x': np.array(robot_init_pose),\n",
    "    'P': np.array([.1, .1, 1])\n",
    "}\n",
    "\n",
    "# MU, SIGMA\n",
    "MU = np.append(robot_init_pose, np.zeros((landmark_dim * num_of_total_landmarks, )))\n",
    "SIGMA = np.diag(np.append(1 * np.ones((robot_dim, )), 100 * np.ones((landmark_dim * num_of_total_landmarks, ))))\n",
    "num_of_seen_landmarks = 0\n",
    "\n",
    "for i, event in tqdm(enumerate(events), total=len(events)):\n",
    "  time_curr = event[1][0]\n",
    "\n",
    "  if event[0] == 'odometry':\n",
    "    ## For the first data\n",
    "    if time_prev < 0:\n",
    "      time_prev = time_curr\n",
    "      continue\n",
    "    ##\n",
    "\n",
    "    # Dynamic Update\n",
    "    u = event[1][1:]    # u_t = [ve, alpha]\n",
    "    dT = time_curr - time_prev\n",
    "    MU = g_dynamic(MU, u, dT, vehicle_params)\n",
    "    g_jacob = g_jacobian(MU, u, dT, vehicle_params)\n",
    "    SIGMA[0:3, 0:3] = g_jacob @ SIGMA[0:3, 0:3] @ g_jacob.T + Q[0:3, 0:3]\n",
    "\n",
    "    time_prev = time_curr\n",
    "    #current_txy = [event[1][0], ekf_state['x'][0], ekf_state['x'][1]]\n",
    "\n",
    "  elif event[0] == 'measurements':\n",
    "    # measurements of the currently seen landmarks from current scan: (range, angle, diameter)\n",
    "    x_list_curr = np.reshape(event[1][1:], [-1,3])\n",
    "\n",
    "    # find data association informations\n",
    "    # associations[i] ==  j if measurement i is associated with landmark j,\n",
    "    # associations[i] == -1 if measurement i is determined to be a new, previously unseen landmark, or,\n",
    "    # associations[i] == -2 if measurement i is too ambiguous to use and should be discarded.\n",
    "    associations = compute_data_association(MU, SIGMA, num_of_seen_landmarks, x_list_curr, R)\n",
    "\n",
    "    # update the measurements x, update the landmark indices, and update the states of the newly seen landmarks\n",
    "    for x_curr, association in zip(x_list_curr, associations):\n",
    "      z_x, z_y, z_theta = MU[0:3]\n",
    "      d, phi, _ = x_curr # _, d, phi = x_curr\n",
    "      if association == -2: # Outlier, ignore it\n",
    "        continue\n",
    "      elif association== -1: # new landmark\n",
    "        # update x\n",
    "        m_x = z_x + d*np.cos(z_theta + phi)\n",
    "        m_y = z_y + d*np.sin(z_theta + phi)\n",
    "        MU[robot_dim + landmark_dim * num_of_seen_landmarks] += m_x\n",
    "        MU[robot_dim + landmark_dim * num_of_seen_landmarks + 1] += m_y\n",
    "        num_of_seen_landmarks += 1\n",
    "        #continue\n",
    "      else:\n",
    "        predicted_z = h_measurement(MU, association, np.zeros((2, 1)))\n",
    "        h_measurement_out = np.zeros((2, 1))\n",
    "        h_measurement_out = h_measurement(MU, association, h_measurement_out)\n",
    "        h_jacob = h_jacobian(MU, association)\n",
    "\n",
    "        K = SIGMA @ h_jacob.T @ np.linalg.inv(h_jacob @ SIGMA @ h_jacob.T + R)\n",
    "        MU = MU + (K @ (np.array([[d], [phi]]) - h_measurement_out)).flatten()\n",
    "        SIGMA = SIGMA - K @ h_jacob @ SIGMA\n",
    "\n",
    "  elif event[0] == 'gps':\n",
    "    gps_history.append(event[1][:3])\n",
    "    continue\n",
    "\n",
    "  state_history['x'] = np.vstack((state_history['x'], MU[0:3]))\n",
    "  #print('State history:', state_history['x'][-1])\n",
    "  state_history['P'] = np.vstack((state_history['P'], np.diag(SIGMA[:3,:3])))\n",
    "  state_history['robot_pose_history'].append([time_prev, MU[0], MU[1]])\n",
    "\n",
    "# end of data\n",
    "ATE_RMSE, idxs_gps, idxs_est = cal_ate_rmse(state_history['robot_pose_history'], gps_history)\n",
    "\n",
    "# plot results\n",
    "plt.cla()\n",
    "plt.rcParams['figure.figsize'] = [10, 10]\n",
    "## GPS\n",
    "gps_history = np.array(gps_history)\n",
    "plt.plot(gps_history[:,1], gps_history[:,2], '^', markersize=2, color='tab:red', label='gps')\n",
    "## Estimated Traj\n",
    "plt.plot(state_history['x'][:,0], state_history['x'][:,1], color='tab:blue', linewidth=1, label='est traj')\n",
    "## Landmarks\n",
    "trees_plot = np.array(MU[3:]).reshape(-1,2)\n",
    "plt.plot(trees_plot[:,0], trees_plot[:,1], 'xg', markersize=4, label='landmarks')\n",
    "\n",
    "## Optional, to check associations between est traj and gps datas\n",
    "for i in range(len(idxs_gps)):\n",
    "  plt.plot(   [state_history['x'][idxs_est[i],0], gps_history[idxs_gps[i],1]],\\\n",
    "              [state_history['x'][idxs_est[i],1], gps_history[idxs_gps[i],2]],\\\n",
    "              color='tab:orange', linewidth=0.3)\n",
    "\n",
    "print(\"num_trees\", num_of_seen_landmarks)\n",
    "\n",
    "plt.title(f\"ATE_RMSE: {ATE_RMSE:.3f}[m]\")\n",
    "plt.legend()\n",
    "plt.show()"
   ]
  },
  {
   "cell_type": "markdown",
   "metadata": {},
   "source": [
    "# Bayesian Optimization"
   ]
  },
  {
   "cell_type": "code",
   "execution_count": 12,
   "metadata": {},
   "outputs": [],
   "source": [
    "def run_ekf_slam(Q, R):\n",
    "  \n",
    "  events, robot_init_pose = np.load('../data/data_dynamic.npy', allow_pickle=True)\n",
    "\n",
    "  '''\n",
    "    it takes about 10 minuts for all trajectory estimation.\n",
    "    for debuging you can crop the events as the following:\n",
    "  '''\n",
    "  #events = events[:5000] #\n",
    "\n",
    "  time_prev = -1\n",
    "  gps_history = []\n",
    "  state_history = {\n",
    "      'robot_pose_history': [],\n",
    "      'x': np.array(robot_init_pose),\n",
    "      'P': np.array([.1, .1, 1])\n",
    "  }\n",
    "\n",
    "  # MU, SIGMA\n",
    "  MU = np.append(robot_init_pose, np.zeros((landmark_dim * num_of_total_landmarks, )))\n",
    "  SIGMA = np.diag(np.append(1 * np.ones((robot_dim, )),\n",
    "                            100 * np.ones((landmark_dim * num_of_total_landmarks, ))))\n",
    "  chunk_size = 50  # number of landmarks to allocate per chunk\n",
    "  allocated_landmarks = num_of_total_landmarks  # Track current allocation\n",
    "\n",
    "  num_of_seen_landmarks = 0\n",
    "\n",
    "  for i, event in tqdm(enumerate(events), total=len(events)):\n",
    "    time_curr = event[1][0]\n",
    "\n",
    "    if event[0] == 'odometry':\n",
    "      ## For the first data\n",
    "      if time_prev < 0:\n",
    "        time_prev = time_curr\n",
    "        continue\n",
    "      ##\n",
    "\n",
    "      # Dynamic Update\n",
    "      u = event[1][1:]    # u_t = [ve, alpha]\n",
    "      dT = time_curr - time_prev\n",
    "      MU = g_dynamic(MU, u, dT, vehicle_params)\n",
    "      g_jacob = g_jacobian(MU, u, dT, vehicle_params)\n",
    "      SIGMA[0:3, 0:3] = g_jacob @ SIGMA[0:3, 0:3] @ g_jacob.T + Q[0:3, 0:3]\n",
    "\n",
    "      time_prev = time_curr\n",
    "      #current_txy = [event[1][0], ekf_state['x'][0], ekf_state['x'][1]]\n",
    "\n",
    "    elif event[0] == 'measurements':\n",
    "      # measurements of the currently seen landmarks from current scan: (range, angle, diameter)\n",
    "      x_list_curr = np.reshape(event[1][1:], [-1,3])\n",
    "\n",
    "      # find data association informations\n",
    "      # associations[i] ==  j if measurement i is associated with landmark j,\n",
    "      # associations[i] == -1 if measurement i is determined to be a new, previously unseen landmark, or,\n",
    "      # associations[i] == -2 if measurement i is too ambiguous to use and should be discarded.\n",
    "      associations = compute_data_association(MU, SIGMA, num_of_seen_landmarks, x_list_curr, R)\n",
    "\n",
    "      # update the measurements x, update the landmark indices, and update the states of the newly seen landmarks\n",
    "      for x_curr, association in zip(x_list_curr, associations):\n",
    "        z_x, z_y, z_theta = MU[0:3]\n",
    "        d, phi, _ = x_curr \n",
    "        if association == -2: # Outlier, ignore it\n",
    "          continue\n",
    "        elif association== -1: # new landmark\n",
    "          # Check if we need more space\n",
    "          if num_of_seen_landmarks >= allocated_landmarks:\n",
    "            # Expand by one chunk\n",
    "            additional_space = landmark_dim * chunk_size\n",
    "            \n",
    "            # Expand MU and SIGMA\n",
    "            MU = np.append(MU, np.zeros((additional_space,)))\n",
    "\n",
    "            # Expand SIGMA\n",
    "            SIGMA = np.pad(SIGMA, ((0, additional_space), (0, additional_space)), mode='constant', constant_values=0)\n",
    "\n",
    "            # Set diagonal values of SIGMA for the new landmarks to 100\n",
    "            new_landmark_indices = np.arange(robot_dim + landmark_dim * allocated_landmarks,\n",
    "                                            robot_dim + landmark_dim * allocated_landmarks + additional_space)\n",
    "\n",
    "            SIGMA[new_landmark_indices, new_landmark_indices] = 100.0\n",
    "            allocated_landmarks += chunk_size\n",
    "          \n",
    "          # new landmark, init landmark state\n",
    "          m_x = z_x + d*np.cos(z_theta + phi)\n",
    "          m_y = z_y + d*np.sin(z_theta + phi)\n",
    "          MU[robot_dim + landmark_dim * num_of_seen_landmarks] += m_x\n",
    "          MU[robot_dim + landmark_dim * num_of_seen_landmarks + 1] += m_y\n",
    "          num_of_seen_landmarks += 1\n",
    "          #continue\n",
    "        else:\n",
    "          h_measurement_out = np.zeros((2, 1))\n",
    "          h_measurement_out = h_measurement(MU, association, h_measurement_out)\n",
    "          h_jacob = h_jacobian(MU, association)\n",
    "\n",
    "          K = SIGMA @ h_jacob.T @ np.linalg.inv(h_jacob @ SIGMA @ h_jacob.T + R)\n",
    "          MU = MU + (K @ (np.array([[d], [phi]]) - h_measurement_out)).flatten()\n",
    "          SIGMA = SIGMA - K @ h_jacob @ SIGMA\n",
    "\n",
    "    elif event[0] == 'gps':\n",
    "      gps_history.append(event[1][:3])\n",
    "      continue\n",
    "\n",
    "    state_history['x'] = np.vstack((state_history['x'], MU[0:3]))\n",
    "    #print('State history:', state_history['x'][-1])\n",
    "    state_history['P'] = np.vstack((state_history['P'], np.diag(SIGMA[:3,:3])))\n",
    "    state_history['robot_pose_history'].append([time_prev, MU[0], MU[1]])\n",
    "\n",
    "  # end of data\n",
    "  ATE_RMSE, idxs_gps, idxs_est = cal_ate_rmse(state_history['robot_pose_history'], gps_history, optim=True)\n",
    "\n",
    "  output_dir = \"../ekf_slam_stat_with_dyn_landmarks\"\n",
    "  os.makedirs(output_dir, exist_ok=True)\n",
    "\n",
    "  # Plot results\n",
    "  plt.cla()\n",
    "  plt.rcParams['figure.figsize'] = [10, 10]\n",
    "\n",
    "  # GPS trajectory\n",
    "  gps_history = np.array(gps_history)\n",
    "  plt.plot(gps_history[:,1], gps_history[:,2], '^', markersize=2, color='tab:red', label='gps')\n",
    "\n",
    "  # Estimated robot trajectory\n",
    "  plt.plot(state_history['x'][:,0], state_history['x'][:,1], color='tab:blue', linewidth=1, label='est traj')\n",
    "\n",
    "  # Landmarks\n",
    "  trees_plot = np.array(MU[3:]).reshape(-1,2)\n",
    "  plt.plot(trees_plot[:,0], trees_plot[:,1], 'xg', markersize=4, label='landmarks')\n",
    "\n",
    "  # Optionally show GPS vs estimated association lines\n",
    "  for i in range(len(idxs_gps)):\n",
    "    plt.plot([state_history['x'][idxs_est[i],0], gps_history[idxs_gps[i],1]],\n",
    "            [state_history['x'][idxs_est[i],1], gps_history[idxs_gps[i],2]],\n",
    "            color='tab:orange', linewidth=0.3)\n",
    "\n",
    "  # Title includes RMSE and number of landmarks\n",
    "  plt.title(f\"ATE_RMSE: {ATE_RMSE:.3f} [m] | Seen Landmarks: {num_of_seen_landmarks}\")\n",
    "  plt.legend()\n",
    "\n",
    "  # Save the figure\n",
    "  filename = f\"slam_result_rmse_{ATE_RMSE:.3f}_landmarks_{num_of_seen_landmarks}.png\"\n",
    "  save_path = os.path.join(output_dir, filename)\n",
    "  plt.savefig(save_path, dpi=200)\n",
    "  plt.close()\n",
    "  \n",
    "  return ATE_RMSE, num_of_seen_landmarks"
   ]
  },
  {
   "cell_type": "markdown",
   "metadata": {},
   "source": [
    "## Static Optimization using dynamic Landmarks"
   ]
  },
  {
   "cell_type": "code",
   "execution_count": 13,
   "metadata": {},
   "outputs": [
    {
     "name": "stdout",
     "output_type": "stream",
     "text": [
      "|   iter    |  target   |    q_x    |    q_y    |  q_theta  |  r_range  | r_bearing |\n",
      "-------------------------------------------------------------------------------------\n"
     ]
    },
    {
     "data": {
      "application/vnd.jupyter.widget-view+json": {
       "model_id": "226b66fa32d64a1d9b37c4f29bbbd1f8",
       "version_major": 2,
       "version_minor": 0
      },
      "text/plain": [
       "  0%|          | 0/10000 [00:00<?, ?it/s]"
      ]
     },
     "metadata": {},
     "output_type": "display_data"
    },
    {
     "name": "stdout",
     "output_type": "stream",
     "text": [
      "ATE RMSE: 9.0661, Seen landmarks: 177\n",
      "| \u001b[39m2        \u001b[39m | \u001b[39m-8.623573\u001b[39m | \u001b[39m0.0380794\u001b[39m | \u001b[39m0.0951207\u001b[39m | \u001b[39m0.0260191\u001b[39m | \u001b[39m0.6387926\u001b[39m | \u001b[39m0.0345955\u001b[39m |\n"
     ]
    },
    {
     "data": {
      "application/vnd.jupyter.widget-view+json": {
       "model_id": "7429d81efcd4477e87c65563094c3703",
       "version_major": 2,
       "version_minor": 0
      },
      "text/plain": [
       "  0%|          | 0/10000 [00:00<?, ?it/s]"
      ]
     },
     "metadata": {},
     "output_type": "display_data"
    },
    {
     "name": "stdout",
     "output_type": "stream",
     "text": [
      "ATE RMSE: 46.6192, Seen landmarks: 193\n",
      "| \u001b[39m3        \u001b[39m | \u001b[39m-46.13670\u001b[39m | \u001b[39m0.0164434\u001b[39m | \u001b[39m0.0067502\u001b[39m | \u001b[39m0.0304688\u001b[39m | \u001b[39m0.6410035\u001b[39m | \u001b[39m0.1261295\u001b[39m |\n"
     ]
    },
    {
     "data": {
      "application/vnd.jupyter.widget-view+json": {
       "model_id": "0bd49d2c72764b5982bafc1ca9e57877",
       "version_major": 2,
       "version_minor": 0
      },
      "text/plain": [
       "  0%|          | 0/10000 [00:00<?, ?it/s]"
      ]
     },
     "metadata": {},
     "output_type": "display_data"
    },
    {
     "name": "stdout",
     "output_type": "stream",
     "text": [
      "ATE RMSE: 111.8601, Seen landmarks: 378\n",
      "| \u001b[39m4        \u001b[39m | \u001b[39m-31795.36\u001b[39m | \u001b[39m0.0030378\u001b[39m | \u001b[39m0.0970210\u001b[39m | \u001b[39m0.0293501\u001b[39m | \u001b[39m0.2911051\u001b[39m | \u001b[39m0.0388743\u001b[39m |\n"
     ]
    },
    {
     "data": {
      "application/vnd.jupyter.widget-view+json": {
       "model_id": "b233ccaad7674ab48613c44467a7fd99",
       "version_major": 2,
       "version_minor": 0
      },
      "text/plain": [
       "  0%|          | 0/10000 [00:00<?, ?it/s]"
      ]
     },
     "metadata": {},
     "output_type": "display_data"
    },
    {
     "name": "stdout",
     "output_type": "stream",
     "text": [
      "ATE RMSE: 41.0080, Seen landmarks: 195\n",
      "| \u001b[39m5        \u001b[39m | \u001b[39m-40.52054\u001b[39m | \u001b[39m0.0191570\u001b[39m | \u001b[39m0.0311199\u001b[39m | \u001b[39m0.0191469\u001b[39m | \u001b[39m0.4887505\u001b[39m | \u001b[39m0.0570142\u001b[39m |\n"
     ]
    },
    {
     "data": {
      "application/vnd.jupyter.widget-view+json": {
       "model_id": "3325cb0863f1498b90051e5078f7cc6d",
       "version_major": 2,
       "version_minor": 0
      },
      "text/plain": [
       "  0%|          | 0/10000 [00:00<?, ?it/s]"
      ]
     },
     "metadata": {},
     "output_type": "display_data"
    },
    {
     "name": "stdout",
     "output_type": "stream",
     "text": [
      "ATE RMSE: 38.1552, Seen landmarks: 268\n",
      "| \u001b[39m6        \u001b[39m | \u001b[39m-4661.655\u001b[39m | \u001b[39m0.0615734\u001b[39m | \u001b[39m0.0148098\u001b[39m | \u001b[39m0.0114332\u001b[39m | \u001b[39m0.4297256\u001b[39m | \u001b[39m0.0843459\u001b[39m |\n"
     ]
    },
    {
     "data": {
      "application/vnd.jupyter.widget-view+json": {
       "model_id": "5236d22fdf284626b2e2bfc9825ceaa6",
       "version_major": 2,
       "version_minor": 0
      },
      "text/plain": [
       "  0%|          | 0/10000 [00:00<?, ?it/s]"
      ]
     },
     "metadata": {},
     "output_type": "display_data"
    },
    {
     "name": "stdout",
     "output_type": "stream",
     "text": [
      "ATE RMSE: 9.8084, Seen landmarks: 189\n",
      "| \u001b[39m7        \u001b[39m | \u001b[39m-9.335892\u001b[39m | \u001b[39m0.0787324\u001b[39m | \u001b[39m0.0207677\u001b[39m | \u001b[39m0.0187979\u001b[39m | \u001b[39m0.6331731\u001b[39m | \u001b[39m0.0164284\u001b[39m |\n"
     ]
    },
    {
     "data": {
      "application/vnd.jupyter.widget-view+json": {
       "model_id": "8a683acd0e6b44b781f6789651e27e88",
       "version_major": 2,
       "version_minor": 0
      },
      "text/plain": [
       "  0%|          | 0/10000 [00:00<?, ?it/s]"
      ]
     },
     "metadata": {},
     "output_type": "display_data"
    },
    {
     "name": "stdout",
     "output_type": "stream",
     "text": [
      "ATE RMSE: 220.0085, Seen landmarks: 244\n",
      "| \u001b[39m8        \u001b[39m | \u001b[39m-2155.508\u001b[39m | \u001b[39m0.0611469\u001b[39m | \u001b[39m0.0178818\u001b[39m | \u001b[39m0.0039025\u001b[39m | \u001b[39m0.9539969\u001b[39m | \u001b[39m0.1688345\u001b[39m |\n"
     ]
    },
    {
     "data": {
      "application/vnd.jupyter.widget-view+json": {
       "model_id": "6835fd0ff0304ebeb14d7773c7e9ffa1",
       "version_major": 2,
       "version_minor": 0
      },
      "text/plain": [
       "  0%|          | 0/10000 [00:00<?, ?it/s]"
      ]
     },
     "metadata": {},
     "output_type": "display_data"
    },
    {
     "name": "stdout",
     "output_type": "stream",
     "text": [
      "ATE RMSE: 33.8148, Seen landmarks: 181\n",
      "| \u001b[39m9        \u001b[39m | \u001b[39m-33.36228\u001b[39m | \u001b[39m0.0810313\u001b[39m | \u001b[39m0.0311567\u001b[39m | \u001b[39m0.0049842\u001b[39m | \u001b[39m0.7158097\u001b[39m | \u001b[39m0.0817066\u001b[39m |\n"
     ]
    },
    {
     "data": {
      "application/vnd.jupyter.widget-view+json": {
       "model_id": "79cfc6def8be4f749a024432716f27dc",
       "version_major": 2,
       "version_minor": 0
      },
      "text/plain": [
       "  0%|          | 0/10000 [00:00<?, ?it/s]"
      ]
     },
     "metadata": {},
     "output_type": "display_data"
    },
    {
     "name": "stdout",
     "output_type": "stream",
     "text": [
      "ATE RMSE: 8.1265, Seen landmarks: 195\n",
      "| \u001b[35m10       \u001b[39m | \u001b[35m-7.638958\u001b[39m | \u001b[35m0.0665897\u001b[39m | \u001b[35m0.0623157\u001b[39m | \u001b[35m0.0302002\u001b[39m | \u001b[35m0.6720480\u001b[39m | \u001b[35m0.1661189\u001b[39m |\n"
     ]
    },
    {
     "data": {
      "application/vnd.jupyter.widget-view+json": {
       "model_id": "556ca5267ccb474e9f0dd53e650085bf",
       "version_major": 2,
       "version_minor": 0
      },
      "text/plain": [
       "  0%|          | 0/10000 [00:00<?, ?it/s]"
      ]
     },
     "metadata": {},
     "output_type": "display_data"
    },
    {
     "name": "stdout",
     "output_type": "stream",
     "text": [
      "ATE RMSE: 55.8358, Seen landmarks: 267\n",
      "| \u001b[39m11       \u001b[39m | \u001b[39m-4544.335\u001b[39m | \u001b[39m0.001    \u001b[39m | \u001b[39m0.1      \u001b[39m | \u001b[39m0.0349065\u001b[39m | \u001b[39m1.0      \u001b[39m | \u001b[39m0.0087266\u001b[39m |\n"
     ]
    },
    {
     "data": {
      "application/vnd.jupyter.widget-view+json": {
       "model_id": "773e4c10f48e4b26a8613f93392c4718",
       "version_major": 2,
       "version_minor": 0
      },
      "text/plain": [
       "  0%|          | 0/10000 [00:00<?, ?it/s]"
      ]
     },
     "metadata": {},
     "output_type": "display_data"
    },
    {
     "name": "stdout",
     "output_type": "stream",
     "text": [
      "ATE RMSE: 41.4964, Seen landmarks: 209\n",
      "| \u001b[39m12       \u001b[39m | \u001b[39m-121.9964\u001b[39m | \u001b[39m0.1      \u001b[39m | \u001b[39m0.001    \u001b[39m | \u001b[39m0.0017453\u001b[39m | \u001b[39m0.5367955\u001b[39m | \u001b[39m0.1745329\u001b[39m |\n"
     ]
    },
    {
     "data": {
      "application/vnd.jupyter.widget-view+json": {
       "model_id": "c97afd3e70be4944b8469e1119eec03f",
       "version_major": 2,
       "version_minor": 0
      },
      "text/plain": [
       "  0%|          | 0/10000 [00:00<?, ?it/s]"
      ]
     },
     "metadata": {},
     "output_type": "display_data"
    },
    {
     "name": "stdout",
     "output_type": "stream",
     "text": [
      "ATE RMSE: 108.7953, Seen landmarks: 191\n",
      "| \u001b[39m13       \u001b[39m | \u001b[39m-108.3178\u001b[39m | \u001b[39m0.0180613\u001b[39m | \u001b[39m0.0923493\u001b[39m | \u001b[39m0.0157719\u001b[39m | \u001b[39m0.7415603\u001b[39m | \u001b[39m0.1050877\u001b[39m |\n"
     ]
    },
    {
     "data": {
      "application/vnd.jupyter.widget-view+json": {
       "model_id": "9ae2104cf47943d2ae2a7027ec8693b9",
       "version_major": 2,
       "version_minor": 0
      },
      "text/plain": [
       "  0%|          | 0/10000 [00:00<?, ?it/s]"
      ]
     },
     "metadata": {},
     "output_type": "display_data"
    },
    {
     "name": "stdout",
     "output_type": "stream",
     "text": [
      "ATE RMSE: 9.4084, Seen landmarks: 150\n",
      "| \u001b[39m14       \u001b[39m | \u001b[39m-9.033396\u001b[39m | \u001b[39m0.0378860\u001b[39m | \u001b[39m0.0724080\u001b[39m | \u001b[39m0.0262829\u001b[39m | \u001b[39m0.7356647\u001b[39m | \u001b[39m0.1399623\u001b[39m |\n"
     ]
    },
    {
     "data": {
      "application/vnd.jupyter.widget-view+json": {
       "model_id": "daa266c9ff34411cadca8d2627437568",
       "version_major": 2,
       "version_minor": 0
      },
      "text/plain": [
       "  0%|          | 0/10000 [00:00<?, ?it/s]"
      ]
     },
     "metadata": {},
     "output_type": "display_data"
    },
    {
     "name": "stdout",
     "output_type": "stream",
     "text": [
      "ATE RMSE: 174.1556, Seen landmarks: 346\n",
      "| \u001b[39m15       \u001b[39m | \u001b[39m-21489.65\u001b[39m | \u001b[39m0.1      \u001b[39m | \u001b[39m0.001    \u001b[39m | \u001b[39m0.0349065\u001b[39m | \u001b[39m0.8735920\u001b[39m | \u001b[39m0.0087266\u001b[39m |\n"
     ]
    },
    {
     "data": {
      "application/vnd.jupyter.widget-view+json": {
       "model_id": "2093565a7e554a2b8e98a691d5b9831f",
       "version_major": 2,
       "version_minor": 0
      },
      "text/plain": [
       "  0%|          | 0/10000 [00:00<?, ?it/s]"
      ]
     },
     "metadata": {},
     "output_type": "display_data"
    },
    {
     "name": "stdout",
     "output_type": "stream",
     "text": [
      "ATE RMSE: 8.7927, Seen landmarks: 153\n",
      "| \u001b[39m16       \u001b[39m | \u001b[39m-8.410181\u001b[39m | \u001b[39m0.0920344\u001b[39m | \u001b[39m0.0491727\u001b[39m | \u001b[39m0.0318098\u001b[39m | \u001b[39m0.6839309\u001b[39m | \u001b[39m0.1098300\u001b[39m |\n"
     ]
    },
    {
     "data": {
      "application/vnd.jupyter.widget-view+json": {
       "model_id": "6306b7c8e8ab4056b5288a4bfd7e78e8",
       "version_major": 2,
       "version_minor": 0
      },
      "text/plain": [
       "  0%|          | 0/10000 [00:00<?, ?it/s]"
      ]
     },
     "metadata": {},
     "output_type": "display_data"
    },
    {
     "name": "stdout",
     "output_type": "stream",
     "text": [
      "ATE RMSE: 53.8213, Seen landmarks: 208\n",
      "| \u001b[39m17       \u001b[39m | \u001b[39m-117.3212\u001b[39m | \u001b[39m0.001    \u001b[39m | \u001b[39m0.1      \u001b[39m | \u001b[39m0.0017453\u001b[39m | \u001b[39m1.0      \u001b[39m | \u001b[39m0.1745329\u001b[39m |\n"
     ]
    },
    {
     "data": {
      "application/vnd.jupyter.widget-view+json": {
       "model_id": "2dfdd169eaa446cb95cabee01002c78f",
       "version_major": 2,
       "version_minor": 0
      },
      "text/plain": [
       "  0%|          | 0/10000 [00:00<?, ?it/s]"
      ]
     },
     "metadata": {},
     "output_type": "display_data"
    },
    {
     "name": "stdout",
     "output_type": "stream",
     "text": [
      "ATE RMSE: 40.6639, Seen landmarks: 193\n",
      "| \u001b[39m18       \u001b[39m | \u001b[39m-40.18135\u001b[39m | \u001b[39m0.0353980\u001b[39m | \u001b[39m0.0457750\u001b[39m | \u001b[39m0.0090251\u001b[39m | \u001b[39m0.8369932\u001b[39m | \u001b[39m0.0418336\u001b[39m |\n"
     ]
    },
    {
     "data": {
      "application/vnd.jupyter.widget-view+json": {
       "model_id": "de585a1b7190400286206b24eb52c300",
       "version_major": 2,
       "version_minor": 0
      },
      "text/plain": [
       "  0%|          | 0/10000 [00:00<?, ?it/s]"
      ]
     },
     "metadata": {},
     "output_type": "display_data"
    },
    {
     "name": "stdout",
     "output_type": "stream",
     "text": [
      "ATE RMSE: 10.8477, Seen landmarks: 270\n",
      "| \u001b[39m19       \u001b[39m | \u001b[39m-4910.347\u001b[39m | \u001b[39m0.0247456\u001b[39m | \u001b[39m0.0387304\u001b[39m | \u001b[39m0.0241167\u001b[39m | \u001b[39m0.1844883\u001b[39m | \u001b[39m0.1657823\u001b[39m |\n"
     ]
    },
    {
     "data": {
      "application/vnd.jupyter.widget-view+json": {
       "model_id": "86c93340448f4b229ba613fe1a7d7711",
       "version_major": 2,
       "version_minor": 0
      },
      "text/plain": [
       "  0%|          | 0/10000 [00:00<?, ?it/s]"
      ]
     },
     "metadata": {},
     "output_type": "display_data"
    },
    {
     "name": "stdout",
     "output_type": "stream",
     "text": [
      "ATE RMSE: 356.7689, Seen landmarks: 320\n",
      "| \u001b[39m20       \u001b[39m | \u001b[39m-14756.26\u001b[39m | \u001b[39m0.001    \u001b[39m | \u001b[39m0.1      \u001b[39m | \u001b[39m0.0017453\u001b[39m | \u001b[39m0.8611195\u001b[39m | \u001b[39m0.1745329\u001b[39m |\n"
     ]
    },
    {
     "data": {
      "application/vnd.jupyter.widget-view+json": {
       "model_id": "bb64441b099345f18f12fdd60a7d7ba6",
       "version_major": 2,
       "version_minor": 0
      },
      "text/plain": [
       "  0%|          | 0/10000 [00:00<?, ?it/s]"
      ]
     },
     "metadata": {},
     "output_type": "display_data"
    },
    {
     "name": "stdout",
     "output_type": "stream",
     "text": [
      "ATE RMSE: 48.7960, Seen landmarks: 202\n",
      "| \u001b[39m21       \u001b[39m | \u001b[39m-52.29602\u001b[39m | \u001b[39m0.0125489\u001b[39m | \u001b[39m0.0911709\u001b[39m | \u001b[39m0.0018428\u001b[39m | \u001b[39m0.5851551\u001b[39m | \u001b[39m0.1203714\u001b[39m |\n"
     ]
    },
    {
     "data": {
      "application/vnd.jupyter.widget-view+json": {
       "model_id": "488a7108021e424497f95f5e6b15b3a3",
       "version_major": 2,
       "version_minor": 0
      },
      "text/plain": [
       "  0%|          | 0/10000 [00:00<?, ?it/s]"
      ]
     },
     "metadata": {},
     "output_type": "display_data"
    },
    {
     "name": "stdout",
     "output_type": "stream",
     "text": [
      "ATE RMSE: 11.3961, Seen landmarks: 180\n",
      "| \u001b[39m22       \u001b[39m | \u001b[39m-10.94614\u001b[39m | \u001b[39m0.0626018\u001b[39m | \u001b[39m0.0625074\u001b[39m | \u001b[39m0.0292187\u001b[39m | \u001b[39m0.6748266\u001b[39m | \u001b[39m0.1637527\u001b[39m |\n"
     ]
    },
    {
     "data": {
      "application/vnd.jupyter.widget-view+json": {
       "model_id": "0e979007d1f549fb8501c7b81cf2ecd5",
       "version_major": 2,
       "version_minor": 0
      },
      "text/plain": [
       "  0%|          | 0/10000 [00:00<?, ?it/s]"
      ]
     },
     "metadata": {},
     "output_type": "display_data"
    },
    {
     "name": "stdout",
     "output_type": "stream",
     "text": [
      "ATE RMSE: 7.3871, Seen landmarks: 237\n",
      "| \u001b[39m23       \u001b[39m | \u001b[39m-1375.887\u001b[39m | \u001b[39m0.0641147\u001b[39m | \u001b[39m0.0815348\u001b[39m | \u001b[39m0.0084148\u001b[39m | \u001b[39m0.2406343\u001b[39m | \u001b[39m0.1134880\u001b[39m |\n"
     ]
    },
    {
     "data": {
      "application/vnd.jupyter.widget-view+json": {
       "model_id": "25b209edf60042d89d264cc413e55b0e",
       "version_major": 2,
       "version_minor": 0
      },
      "text/plain": [
       "  0%|          | 0/10000 [00:00<?, ?it/s]"
      ]
     },
     "metadata": {},
     "output_type": "display_data"
    },
    {
     "name": "stdout",
     "output_type": "stream",
     "text": [
      "ATE RMSE: 67.3086, Seen landmarks: 535\n",
      "| \u001b[39m24       \u001b[39m | \u001b[39m-112291.8\u001b[39m | \u001b[39m0.001    \u001b[39m | \u001b[39m0.0389876\u001b[39m | \u001b[39m0.0017453\u001b[39m | \u001b[39m0.7447099\u001b[39m | \u001b[39m0.0087266\u001b[39m |\n"
     ]
    },
    {
     "data": {
      "application/vnd.jupyter.widget-view+json": {
       "model_id": "2b6f5f9671de475bbea7c108bf3523de",
       "version_major": 2,
       "version_minor": 0
      },
      "text/plain": [
       "  0%|          | 0/10000 [00:00<?, ?it/s]"
      ]
     },
     "metadata": {},
     "output_type": "display_data"
    },
    {
     "name": "stdout",
     "output_type": "stream",
     "text": [
      "ATE RMSE: 8.9378, Seen landmarks: 190\n",
      "| \u001b[39m25       \u001b[39m | \u001b[39m-8.462774\u001b[39m | \u001b[39m0.0926724\u001b[39m | \u001b[39m0.0955625\u001b[39m | \u001b[39m0.0223893\u001b[39m | \u001b[39m0.5509641\u001b[39m | \u001b[39m0.0330346\u001b[39m |\n"
     ]
    },
    {
     "data": {
      "application/vnd.jupyter.widget-view+json": {
       "model_id": "76f4a8bc4d764c3daa8d2bf75a0d12c1",
       "version_major": 2,
       "version_minor": 0
      },
      "text/plain": [
       "  0%|          | 0/10000 [00:00<?, ?it/s]"
      ]
     },
     "metadata": {},
     "output_type": "display_data"
    },
    {
     "name": "stdout",
     "output_type": "stream",
     "text": [
      "ATE RMSE: 8.7013, Seen landmarks: 172\n",
      "| \u001b[39m26       \u001b[39m | \u001b[39m-8.271322\u001b[39m | \u001b[39m0.0778932\u001b[39m | \u001b[39m0.0289905\u001b[39m | \u001b[39m0.0099772\u001b[39m | \u001b[39m0.5814209\u001b[39m | \u001b[39m0.0913199\u001b[39m |\n"
     ]
    },
    {
     "data": {
      "application/vnd.jupyter.widget-view+json": {
       "model_id": "b7ec042bcc1a4541a6bd1a9ef39e1c6c",
       "version_major": 2,
       "version_minor": 0
      },
      "text/plain": [
       "  0%|          | 0/10000 [00:00<?, ?it/s]"
      ]
     },
     "metadata": {},
     "output_type": "display_data"
    },
    {
     "name": "stdout",
     "output_type": "stream",
     "text": [
      "ATE RMSE: 92.7031, Seen landmarks: 291\n",
      "| \u001b[39m27       \u001b[39m | \u001b[39m-8373.203\u001b[39m | \u001b[39m0.0051851\u001b[39m | \u001b[39m0.0567604\u001b[39m | \u001b[39m0.0349065\u001b[39m | \u001b[39m0.5668229\u001b[39m | \u001b[39m0.0265691\u001b[39m |\n"
     ]
    },
    {
     "data": {
      "application/vnd.jupyter.widget-view+json": {
       "model_id": "74d9568e6d3046bc81819dcf0ddbfebc",
       "version_major": 2,
       "version_minor": 0
      },
      "text/plain": [
       "  0%|          | 0/10000 [00:00<?, ?it/s]"
      ]
     },
     "metadata": {},
     "output_type": "display_data"
    },
    {
     "name": "stdout",
     "output_type": "stream",
     "text": [
      "ATE RMSE: 14.5498, Seen landmarks: 173\n",
      "| \u001b[39m28       \u001b[39m | \u001b[39m-14.11729\u001b[39m | \u001b[39m0.0249932\u001b[39m | \u001b[39m0.0729827\u001b[39m | \u001b[39m0.0017453\u001b[39m | \u001b[39m0.9092614\u001b[39m | \u001b[39m0.0662873\u001b[39m |\n"
     ]
    },
    {
     "data": {
      "application/vnd.jupyter.widget-view+json": {
       "model_id": "d0677ee083a14d02ab523c7cb78648c9",
       "version_major": 2,
       "version_minor": 0
      },
      "text/plain": [
       "  0%|          | 0/10000 [00:00<?, ?it/s]"
      ]
     },
     "metadata": {},
     "output_type": "display_data"
    },
    {
     "name": "stdout",
     "output_type": "stream",
     "text": [
      "ATE RMSE: 67.1098, Seen landmarks: 194\n",
      "| \u001b[39m29       \u001b[39m | \u001b[39m-66.62476\u001b[39m | \u001b[39m0.0785128\u001b[39m | \u001b[39m0.0275287\u001b[39m | \u001b[39m0.0329622\u001b[39m | \u001b[39m0.4564686\u001b[39m | \u001b[39m0.0680971\u001b[39m |\n"
     ]
    },
    {
     "data": {
      "application/vnd.jupyter.widget-view+json": {
       "model_id": "c069ab4d90bf47fe92aea59d53336144",
       "version_major": 2,
       "version_minor": 0
      },
      "text/plain": [
       "  0%|          | 0/10000 [00:00<?, ?it/s]"
      ]
     },
     "metadata": {},
     "output_type": "display_data"
    },
    {
     "name": "stdout",
     "output_type": "stream",
     "text": [
      "ATE RMSE: 9.0181, Seen landmarks: 159\n",
      "| \u001b[39m30       \u001b[39m | \u001b[39m-8.620575\u001b[39m | \u001b[39m0.1      \u001b[39m | \u001b[39m0.0863754\u001b[39m | \u001b[39m0.0041760\u001b[39m | \u001b[39m0.8141847\u001b[39m | \u001b[39m0.1038751\u001b[39m |\n"
     ]
    },
    {
     "data": {
      "application/vnd.jupyter.widget-view+json": {
       "model_id": "a17d16ec706d45c3b22a6cba90e09e5a",
       "version_major": 2,
       "version_minor": 0
      },
      "text/plain": [
       "  0%|          | 0/10000 [00:00<?, ?it/s]"
      ]
     },
     "metadata": {},
     "output_type": "display_data"
    },
    {
     "name": "stdout",
     "output_type": "stream",
     "text": [
      "ATE RMSE: 9.5228, Seen landmarks: 155\n",
      "| \u001b[39m31       \u001b[39m | \u001b[39m-9.135290\u001b[39m | \u001b[39m0.0844472\u001b[39m | \u001b[39m0.0979266\u001b[39m | \u001b[39m0.0349065\u001b[39m | \u001b[39m0.5085661\u001b[39m | \u001b[39m0.1395433\u001b[39m |\n"
     ]
    },
    {
     "data": {
      "application/vnd.jupyter.widget-view+json": {
       "model_id": "0b1b85b2a1594e1ca986e980fe76cb50",
       "version_major": 2,
       "version_minor": 0
      },
      "text/plain": [
       "  0%|          | 0/10000 [00:00<?, ?it/s]"
      ]
     },
     "metadata": {},
     "output_type": "display_data"
    },
    {
     "name": "stdout",
     "output_type": "stream",
     "text": [
      "ATE RMSE: 48.0651, Seen landmarks: 225\n",
      "| \u001b[39m32       \u001b[39m | \u001b[39m-672.5650\u001b[39m | \u001b[39m0.001    \u001b[39m | \u001b[39m0.0163726\u001b[39m | \u001b[39m0.0349065\u001b[39m | \u001b[39m0.5275121\u001b[39m | \u001b[39m0.1669634\u001b[39m |\n"
     ]
    },
    {
     "data": {
      "application/vnd.jupyter.widget-view+json": {
       "model_id": "0b291de81eba4dee82cab0fa435de923",
       "version_major": 2,
       "version_minor": 0
      },
      "text/plain": [
       "  0%|          | 0/10000 [00:00<?, ?it/s]"
      ]
     },
     "metadata": {},
     "output_type": "display_data"
    },
    {
     "name": "stdout",
     "output_type": "stream",
     "text": [
      "ATE RMSE: 22.2827, Seen landmarks: 199\n",
      "| \u001b[39m33       \u001b[39m | \u001b[39m-21.78523\u001b[39m | \u001b[39m0.1      \u001b[39m | \u001b[39m0.001    \u001b[39m | \u001b[39m0.0017453\u001b[39m | \u001b[39m0.7583368\u001b[39m | \u001b[39m0.1598618\u001b[39m |\n"
     ]
    },
    {
     "data": {
      "application/vnd.jupyter.widget-view+json": {
       "model_id": "d53c17bcccbe4d03b64957dbc794f266",
       "version_major": 2,
       "version_minor": 0
      },
      "text/plain": [
       "  0%|          | 0/10000 [00:00<?, ?it/s]"
      ]
     },
     "metadata": {},
     "output_type": "display_data"
    },
    {
     "name": "stdout",
     "output_type": "stream",
     "text": [
      "ATE RMSE: 9.0388, Seen landmarks: 166\n",
      "| \u001b[39m34       \u001b[39m | \u001b[39m-8.623820\u001b[39m | \u001b[39m0.0761569\u001b[39m | \u001b[39m0.0548961\u001b[39m | \u001b[39m0.0145626\u001b[39m | \u001b[39m0.9500316\u001b[39m | \u001b[39m0.0613065\u001b[39m |\n"
     ]
    },
    {
     "data": {
      "application/vnd.jupyter.widget-view+json": {
       "model_id": "1c63c0d31b8641cc8caa03873cfc2ab5",
       "version_major": 2,
       "version_minor": 0
      },
      "text/plain": [
       "  0%|          | 0/10000 [00:00<?, ?it/s]"
      ]
     },
     "metadata": {},
     "output_type": "display_data"
    },
    {
     "name": "stdout",
     "output_type": "stream",
     "text": [
      "ATE RMSE: 9.5530, Seen landmarks: 138\n",
      "| \u001b[39m35       \u001b[39m | \u001b[39m-9.208047\u001b[39m | \u001b[39m0.1      \u001b[39m | \u001b[39m0.1      \u001b[39m | \u001b[39m0.0349065\u001b[39m | \u001b[39m1.0      \u001b[39m | \u001b[39m0.1370712\u001b[39m |\n"
     ]
    },
    {
     "data": {
      "application/vnd.jupyter.widget-view+json": {
       "model_id": "30d682957e184314bef3414357ea3b50",
       "version_major": 2,
       "version_minor": 0
      },
      "text/plain": [
       "  0%|          | 0/10000 [00:00<?, ?it/s]"
      ]
     },
     "metadata": {},
     "output_type": "display_data"
    },
    {
     "name": "stdout",
     "output_type": "stream",
     "text": [
      "ATE RMSE: 131.1665, Seen landmarks: 316\n",
      "| \u001b[39m36       \u001b[39m | \u001b[39m-13586.66\u001b[39m | \u001b[39m0.001    \u001b[39m | \u001b[39m0.1      \u001b[39m | \u001b[39m0.0017453\u001b[39m | \u001b[39m0.4605387\u001b[39m | \u001b[39m0.1745329\u001b[39m |\n"
     ]
    },
    {
     "data": {
      "application/vnd.jupyter.widget-view+json": {
       "model_id": "45d16ebe1c97444f92c31f245970dc04",
       "version_major": 2,
       "version_minor": 0
      },
      "text/plain": [
       "  0%|          | 0/10000 [00:00<?, ?it/s]"
      ]
     },
     "metadata": {},
     "output_type": "display_data"
    },
    {
     "name": "stdout",
     "output_type": "stream",
     "text": [
      "ATE RMSE: 8.9897, Seen landmarks: 171\n",
      "| \u001b[39m37       \u001b[39m | \u001b[39m-8.562231\u001b[39m | \u001b[39m0.1      \u001b[39m | \u001b[39m0.1      \u001b[39m | \u001b[39m0.0017453\u001b[39m | \u001b[39m0.6278438\u001b[39m | \u001b[39m0.0858235\u001b[39m |\n"
     ]
    },
    {
     "data": {
      "application/vnd.jupyter.widget-view+json": {
       "model_id": "f761de244c7146f2b4c5c67bf6e11474",
       "version_major": 2,
       "version_minor": 0
      },
      "text/plain": [
       "  0%|          | 0/10000 [00:00<?, ?it/s]"
      ]
     },
     "metadata": {},
     "output_type": "display_data"
    },
    {
     "name": "stdout",
     "output_type": "stream",
     "text": [
      "ATE RMSE: 116.8959, Seen landmarks: 356\n",
      "| \u001b[39m38       \u001b[39m | \u001b[39m-24452.39\u001b[39m | \u001b[39m0.001    \u001b[39m | \u001b[39m0.0014182\u001b[39m | \u001b[39m0.0017453\u001b[39m | \u001b[39m1.0      \u001b[39m | \u001b[39m0.0904661\u001b[39m |\n"
     ]
    },
    {
     "data": {
      "application/vnd.jupyter.widget-view+json": {
       "model_id": "f9e956f671e84221bf8478ff94fc475b",
       "version_major": 2,
       "version_minor": 0
      },
      "text/plain": [
       "  0%|          | 0/10000 [00:00<?, ?it/s]"
      ]
     },
     "metadata": {},
     "output_type": "display_data"
    },
    {
     "name": "stdout",
     "output_type": "stream",
     "text": [
      "ATE RMSE: 63.7380, Seen landmarks: 228\n",
      "| \u001b[39m39       \u001b[39m | \u001b[39m-847.2380\u001b[39m | \u001b[39m0.0631608\u001b[39m | \u001b[39m0.0088232\u001b[39m | \u001b[39m0.0017453\u001b[39m | \u001b[39m0.8543461\u001b[39m | \u001b[39m0.1194507\u001b[39m |\n",
      "=====================================================================================\n",
      "Best parameters found:\n",
      "{'target': np.float64(-7.638958125972299), 'params': {'q_x': np.float64(0.06658970615104422), 'q_y': np.float64(0.0623157792876936), 'q_theta': np.float64(0.03020027569102718), 'r_range': np.float64(0.6720480968906528), 'r_bearing': np.float64(0.16611894129280982)}}\n",
      "Best ATE RMSE: 8.1265\n",
      "Best Seen Landmarks: 195\n"
     ]
    }
   ],
   "source": [
    "import pandas as pd\n",
    "from bayes_opt import BayesianOptimization\n",
    "\n",
    "def run_slam_with_params(q_x, q_y, q_theta, r_range, r_bearing):\n",
    "    # Construct Q and R\n",
    "    robot_noise = np.array([q_x**2, q_y**2, q_theta**2])\n",
    "    landmark_noise = np.zeros(landmark_dim * num_of_total_landmarks)\n",
    "    full_noise = np.append(robot_noise, landmark_noise)\n",
    "    Q = np.diag(full_noise)\n",
    "    R = np.diag([r_range**2, r_bearing**2])\n",
    "\n",
    "    # Run EKF SLAM\n",
    "    ATE_RMSE, num_seen_landmarks = run_ekf_slam(Q, R)\n",
    "    print(f\"ATE RMSE: {ATE_RMSE:.4f}, Seen landmarks: {num_seen_landmarks}\")\n",
    "\n",
    "    # Record all parameters and results\n",
    "    run_metadata.append({\n",
    "        'X': q_x,\n",
    "        'Y': q_y,\n",
    "        'Theta': q_theta,\n",
    "        'Range': r_range,\n",
    "        'Bearing': r_bearing,\n",
    "        'ATE_MSRE': ATE_RMSE,\n",
    "        'Num_Landmarks': num_seen_landmarks\n",
    "    })\n",
    "\n",
    "    # Scoring strategy\n",
    "    MAX_ALLOWED_LANDMARKS = 200\n",
    "    PENALTY_SCALE = 1\n",
    "    alpha = 0.5\n",
    "\n",
    "    effective_landmark_score = min(num_seen_landmarks, MAX_ALLOWED_LANDMARKS) / MAX_ALLOWED_LANDMARKS\n",
    "    penalty = 0\n",
    "    if num_seen_landmarks > MAX_ALLOWED_LANDMARKS:\n",
    "        excess = num_seen_landmarks - MAX_ALLOWED_LANDMARKS\n",
    "        penalty = (excess / PENALTY_SCALE) ** 2\n",
    "\n",
    "    score = -ATE_RMSE + alpha * effective_landmark_score - penalty\n",
    "    return score\n",
    "\n",
    "run_metadata = []\n",
    "\n",
    "# Bounds for optimization\n",
    "pbounds = {\n",
    "    'q_x': (0.001, 0.1),\n",
    "    'q_y': (0.001, 0.1),\n",
    "    'q_theta': (np.radians(0.1), np.radians(2)),\n",
    "    'r_range': (0.1, 1.0),\n",
    "    'r_bearing': (np.radians(0.5), np.radians(10))\n",
    "}\n",
    "\n",
    "# Optimizer\n",
    "optimizer = BayesianOptimization(\n",
    "    f=run_slam_with_params,\n",
    "    pbounds=pbounds,\n",
    "    random_state=42,\n",
    ")\n",
    "\n",
    "# Run optimization\n",
    "optimizer.maximize(init_points=8, n_iter=30)\n",
    "\n",
    "# Print best result\n",
    "print(\"Best parameters found:\")\n",
    "print(optimizer.max)\n",
    "\n",
    "# Identify best metadata\n",
    "best_index = np.argmax([res['target'] for res in optimizer.res])\n",
    "best_meta = run_metadata[best_index]\n",
    "print(f\"Best ATE RMSE: {best_meta['ATE_MSRE']:.4f}\")\n",
    "print(f\"Best Seen Landmarks: {best_meta['Num_Landmarks']}\")\n",
    "\n",
    "# Save to CSV\n",
    "df = pd.DataFrame(run_metadata)\n",
    "filename_slam_opt = \"../results/slam_stat_opt_with_dyn_landmarks.csv\"\n",
    "df.to_csv(filename_slam_opt, index=False, columns=[\n",
    "    'X', 'Y', 'Theta', 'Range', 'Bearing', 'ATE_MSRE', 'Num_Landmarks'\n",
    "])\n"
   ]
  }
 ],
 "metadata": {
  "colab": {
   "provenance": []
  },
  "kernelspec": {
   "display_name": "nasa_cllg",
   "language": "python",
   "name": "python3"
  },
  "language_info": {
   "codemirror_mode": {
    "name": "ipython",
    "version": 3
   },
   "file_extension": ".py",
   "mimetype": "text/x-python",
   "name": "python",
   "nbconvert_exporter": "python",
   "pygments_lexer": "ipython3",
   "version": "3.11.9"
  }
 },
 "nbformat": 4,
 "nbformat_minor": 0
}
